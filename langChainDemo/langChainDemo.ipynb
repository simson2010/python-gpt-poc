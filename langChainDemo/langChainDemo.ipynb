{
 "cells": [
  {
   "cell_type": "code",
   "execution_count": null,
   "id": "ea43b327-4d81-4306-996d-359f8ac3a7c0",
   "metadata": {},
   "outputs": [],
   "source": [
    "!pip install -r ./requirements.txt"
   ]
  },
  {
   "cell_type": "code",
   "execution_count": null,
   "id": "276b4d10-2597-4c74-81ac-195be04acce8",
   "metadata": {},
   "outputs": [],
   "source": [
    "from dotenv import load_dotenv, find_dotenv \n",
    "load_dotenv(find_dotenv('dotenv'))"
   ]
  },
  {
   "cell_type": "code",
   "execution_count": null,
   "id": "d0fb182e-289c-453c-b876-494f9b3ef680",
   "metadata": {},
   "outputs": [],
   "source": [
    "from langchain.schema import (    AIMessage,    HumanMessage,    SystemMessage)\n",
    "from langchain.chat_models import ChatOpenAI \n",
    "chat = ChatOpenAI(model_name=\"gpt-3.5-turbo\",temperature=0.2)\n",
    "messages = [    \n",
    "    SystemMessage(content=\"你是一个专业的开发人员，也是一个专业的分析师。\"),   \n",
    "    HumanMessage(content=\"\"\"\n",
    "    以下是两个 release note, 请比较出两个版本的差别, 并以bullet point形式列出。\n",
    "    只列出版本之间的差别内容或新版本中新增的内容即可，不需要过多高评论及描述。\n",
    "    输出格式：\n",
    "    1.<差异内容1>\n",
    "    2.<差异内容2>\n",
    "\n",
    "    以下是最近release版本\n",
    "    release 0.1\n",
    "     - 生成新的用户模板\n",
    "     - 基于用户模板，生成目标代码\n",
    "     - 增加新的ABC算法\n",
    "\n",
    "    release 0.2\n",
    "     - 修复使用用户模板生成目标代码时的bug\n",
    "     - 修复ABC算法的识别错误\n",
    "    \"\"\")]\n",
    "\n",
    "messages = [\n",
    "    SystemMessage(content=\"你是一个专业的说匠，会说很多类型的笑话。\"),\n",
    "    HumanMessage(content=\"请你用笑话方式介绍meta learning。\")\n",
    "]\n",
    "\n",
    "response=chat(messages)\n",
    "print(response)\n",
    "print(\"\\n\"*3)\n",
    "print(response.content,end='\\n')"
   ]
  },
  {
   "cell_type": "code",
   "execution_count": 48,
   "id": "dd510ec6-e7c5-48f9-9896-a5119d1b0191",
   "metadata": {},
   "outputs": [
    {
     "data": {
      "text/plain": [
       "AIMessage(content='我不喜欢斯诺克。', additional_kwargs={}, example=False)"
      ]
     },
     "execution_count": 48,
     "metadata": {},
     "output_type": "execute_result"
    }
   ],
   "source": [
    "# Azure \n",
    "\n",
    "#from langchain.chat_models import ChatOpenAI\n",
    "from langchain.schema import (    AIMessage,    HumanMessage,    SystemMessage)\n",
    "from langchain.chat_models import AzureChatOpenAI, ChatOpenAI\n",
    "\n",
    "#llm = AzureOpenAI(temperature=1, model_name='GPT-3',  model_kwargs={'engine': 'gpt-3.5-turbo'} , openai_api_base='https://mobile-beacon.openai.azure.com/')\n",
    "#ChatOpenAI(verbose=False, callbacks=None, callback_manager=None, client=<class 'openai.api_resources.chat_completion.ChatCompletion'>, model_name='gpt-3.5-turbo', temperature=1.0, model_kwargs={'engine': 'gpt-4'}, openai_api_key=None, openai_api_base='https://mobile-beacon.openai.azure.com/', openai_organization=None, openai_proxy=None, request_timeout=None, max_retries=6, streaming=False, n=1, max_tokens=None)\n",
    "llm = AzureChatOpenAI(\n",
    "    temperature=1,\n",
    "    deployment_name=\"chat\",\n",
    "    model=\"gpt-3.5-turbo\"\n",
    ")\n",
    "\n",
    "messages = [\n",
    "    SystemMessage(\n",
    "        content=\"You are a helpful assistant that translates English to any language in the world. And only feed me the translated text.\"\n",
    "    ),\n",
    "    HumanMessage(\n",
    "        content=\"Translate this sentence from English to Chinese. I love surfing.\"\n",
    "    ),\n",
    "]\n",
    "\n",
    "response = llm(messages)\n",
    "\n",
    "messages.append(response)\n",
    "messages.append( HumanMessage(\n",
    "        content=\"I dont love snooker.\"\n",
    "    ))\n",
    "response = llm(messages)\n",
    "\n",
    "response\n"
   ]
  },
  {
   "cell_type": "code",
   "execution_count": null,
   "id": "42255f58-28be-449c-b8b2-1a21cd63432b",
   "metadata": {},
   "outputs": [],
   "source": []
  }
 ],
 "metadata": {
  "kernelspec": {
   "display_name": "Python 3 (ipykernel)",
   "language": "python",
   "name": "python3"
  },
  "language_info": {
   "codemirror_mode": {
    "name": "ipython",
    "version": 3
   },
   "file_extension": ".py",
   "mimetype": "text/x-python",
   "name": "python",
   "nbconvert_exporter": "python",
   "pygments_lexer": "ipython3",
   "version": "3.10.11"
  }
 },
 "nbformat": 4,
 "nbformat_minor": 5
}
